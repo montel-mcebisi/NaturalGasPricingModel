{
  "nbformat": 4,
  "nbformat_minor": 0,
  "metadata": {
    "colab": {
      "provenance": []
    },
    "kernelspec": {
      "name": "python3",
      "display_name": "Python 3"
    },
    "language_info": {
      "name": "python"
    }
  },
  "cells": [
    {
      "cell_type": "code",
      "execution_count": 6,
      "metadata": {
        "id": "5w6NAt1EtbpQ"
      },
      "outputs": [],
      "source": [
        "def contract_valuation(prices,injection_rate,withdrawal_rate,max_volume,storage_cost):\n",
        "  current_volume = 0\n",
        "  cashflow = 0;\n",
        "  actions = []\n",
        "\n",
        "  median_price = prices.median()\n",
        "\n",
        "  for date,price in prices.items():\n",
        "    daily_note = f\"{date.date()} | Price: {price:.2f}\"\n",
        "\n",
        "    if price < median_price and current_volume < max_volume:\n",
        "      # inject gas\n",
        "      inject_vol = min(injection_rate, max_volume - current_volume)\n",
        "      cost = inject_vol * price\n",
        "      current_volume += inject_vol\n",
        "      cashflow -= cost\n",
        "      daily_note += f\" Injected {inject_vol} units (Cost: ${cost:.2f})\"\n",
        "\n",
        "    elif price > median_price and current_volume > 0:\n",
        "      # Withdraw gas\n",
        "      withdraw_vol = min(withdrawal_rate, current_volume)\n",
        "      revenue = withdrawal_vol * price\n",
        "      current_volume -= withdrawal_vol\n",
        "      daily_note += f\" Withdrew {withdrawal_vol} units (Revenue: ${revenue:.2f})\"\n",
        "\n",
        "    # Pay storage cost\n",
        "    storage_fee = storage_cost * current_volume\n",
        "    cashflow -= storage_fee\n",
        "    daily_note += f\" | Storage fee: ${storage_fee:.2f}\"\n",
        "\n",
        "    actions.append(daily_note)\n",
        "\n",
        "  return cashflow, actions"
      ]
    }
  ]
}